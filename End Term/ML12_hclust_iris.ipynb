{
 "cells": [
  {
   "cell_type": "code",
   "execution_count": null,
   "id": "00b95d4a",
   "metadata": {},
   "outputs": [],
   "source": [
    "import numpy as np\n",
    "import pandas as pd\n",
    "  "
   ]
  },
  {
   "cell_type": "code",
   "execution_count": null,
   "id": "6dfc010b",
   "metadata": {},
   "outputs": [],
   "source": [
    "# Loading iris\n",
    "df = pd.read_csv('C:/Users/kdehn/OneDrive - stevens.edu/___Data/CSV_files/iris.csv')\n",
    "# df.head()\n",
    "# print(df.describe())\n",
    "# #data preprocessing\n",
    "# df['Species'] = pd.Categorical(df['Species'])  # convert Species column to categorical data type\n",
    "df.head(10)"
   ]
  },
  {
   "cell_type": "code",
   "execution_count": null,
   "id": "febbdef8",
   "metadata": {},
   "outputs": [],
   "source": [
    "df = df.dropna() # drops NaN values \n",
    "print(df[df.isna().any(axis=1)]) # shows NaN values in data frame if it exists\n",
    "\n",
    "# Splitting the dataset\n",
    "attr = df.drop(columns = ['Species'])  # features\n",
    "target = df['Species']  # target variable 'target' is not used in this example \n",
    "attr.head()\n",
    "# target.head()"
   ]
  },
  {
   "cell_type": "code",
   "execution_count": null,
   "id": "03266737",
   "metadata": {},
   "outputs": [],
   "source": [
    "import matplotlib.pyplot as plt   \n",
    "import scipy.stats as stats\n",
    "import pylab \n",
    "\n",
    "plt=stats.probplot(df['SepalLength'], dist=\"norm\", plot=pylab)\n",
    "pylab.title(\"SepalLength\") \n",
    "pylab.show()\n",
    "plt=stats.probplot(df['SepalWidth'], dist=\"norm\", plot=pylab)\n",
    "pylab.title(\"SepalWidth\") \n",
    "pylab.show()\n",
    "plt=stats.probplot(df['PetalLength'], dist=\"norm\", plot=pylab)\n",
    "pylab.title(\"PetalLength\") \n",
    "pylab.show()\n",
    "plt=stats.probplot(df['PetalWidth'], dist=\"norm\", plot=pylab)\n",
    "pylab.title(\"PetalWidth\") \n",
    "pylab.show()"
   ]
  },
  {
   "cell_type": "code",
   "execution_count": null,
   "id": "4fb20c33",
   "metadata": {},
   "outputs": [],
   "source": [
    "target.head(20)\n"
   ]
  },
  {
   "cell_type": "code",
   "execution_count": null,
   "id": "e37b6e3e",
   "metadata": {},
   "outputs": [],
   "source": [
    "from sklearn.preprocessing import MinMaxScaler\n",
    "# Initialize MinMaxScaler\n",
    "scaler = MinMaxScaler()\n",
    "# Fit and transform the data\n",
    "attr = pd.DataFrame(scaler.fit_transform(attr), columns=attr.columns)\n",
    "attr.head()"
   ]
  },
  {
   "cell_type": "code",
   "execution_count": null,
   "id": "0a1ae562",
   "metadata": {},
   "outputs": [],
   "source": [
    "from sklearn.cluster import AgglomerativeClustering\n",
    "\n",
    "groups = AgglomerativeClustering(n_clusters=3, metric='euclidean',linkage='average')\n",
    "\n",
    "clusters=groups.fit_predict(attr)"
   ]
  },
  {
   "cell_type": "code",
   "execution_count": null,
   "id": "26835a5f",
   "metadata": {},
   "outputs": [],
   "source": [
    "print(clusters)"
   ]
  },
  {
   "cell_type": "code",
   "execution_count": null,
   "id": "bbb5760e",
   "metadata": {},
   "outputs": [],
   "source": [
    "import pandas as pd\n",
    "# df_cluster=pd.DataFrame({'Actual':target,'Cluster':clusters})\n",
    "df_cluster=pd.DataFrame({'Actual':df['Species'],'Cluster':clusters})\n",
    "# Create a cross-tabulation\n",
    "cross_tab = pd.crosstab(df_cluster['Actual'], df_cluster['Cluster'])\n",
    "\n",
    "print(cross_tab)\n",
    "\n"
   ]
  },
  {
   "cell_type": "code",
   "execution_count": null,
   "id": "d0f17785",
   "metadata": {},
   "outputs": [],
   "source": [
    "\n",
    "df_cluster.head(20)"
   ]
  }
 ],
 "metadata": {
  "kernelspec": {
   "display_name": "Python 3 (ipykernel)",
   "language": "python",
   "name": "python3"
  },
  "language_info": {
   "codemirror_mode": {
    "name": "ipython",
    "version": 3
   },
   "file_extension": ".py",
   "mimetype": "text/x-python",
   "name": "python",
   "nbconvert_exporter": "python",
   "pygments_lexer": "ipython3",
   "version": "3.10.9"
  }
 },
 "nbformat": 4,
 "nbformat_minor": 5
}
