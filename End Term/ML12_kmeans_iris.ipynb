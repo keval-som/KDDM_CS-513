{
 "cells": [
  {
   "cell_type": "code",
   "execution_count": null,
   "id": "74266f1f",
   "metadata": {},
   "outputs": [],
   "source": [
    "\n",
    "import numpy as np\n",
    "import pandas as pd\n",
    "import matplotlib.pyplot as plt\n",
    "from sklearn.cluster import KMeans\n",
    "from sklearn.datasets import load_iris\n",
    "# from sklearn.decomposition import PCA\n",
    "from sklearn.preprocessing import MinMaxScaler "
   ]
  },
  {
   "cell_type": "code",
   "execution_count": null,
   "id": "290873eb",
   "metadata": {},
   "outputs": [],
   "source": [
    "# Loading iris\n",
    "df = pd.read_csv('C:/Users/kdehn/OneDrive - stevens.edu/___Data/CSV_files/iris.csv')\n",
    "# df.head()\n",
    "# print(df.describe())\n",
    "# #data preprocessing\n",
    "# df['Species'] = pd.Categorical(df['Species'])  # convert Species column to categorical data type\n",
    "# df.head(10)\n",
    "df = df.dropna() # drops NaN values \n",
    "print(df[df.isna().any(axis=1)]) # shows NaN values in data frame if it exists\n",
    "\n",
    "\n",
    "\n",
    "# Splitting the dataset\n",
    "attr = df.drop(columns = ['Species'])  # features\n",
    "scaler = MinMaxScaler()\n",
    "attr = pd.DataFrame(scaler.fit_transform(attr), columns=attr.columns)\n",
    "attr.head()\n",
    "\n",
    "target = df['Species']  # target variable\n",
    "attr.head()\n",
    "# target.head()"
   ]
  },
  {
   "cell_type": "code",
   "execution_count": null,
   "id": "ae1e4a17",
   "metadata": {},
   "outputs": [],
   "source": [
    "num_clusters = 3  # Iris dataset has three species\n",
    "kmeans = KMeans(n_clusters=num_clusters, random_state=12)\n",
    "kmeans.fit(attr)\n",
    "labels = kmeans.labels_\n",
    "centers = kmeans.cluster_centers_\n",
    "\n",
    "print(labels)\n",
    "print(centers)"
   ]
  },
  {
   "cell_type": "code",
   "execution_count": null,
   "id": "7ca58291",
   "metadata": {},
   "outputs": [],
   "source": [
    "import pandas as pd\n",
    "df_cluster=pd.DataFrame({'Actual':target,'Cluster':labels})\n",
    "# Create a cross-tabulation\n",
    "cross_tab = pd.crosstab(df_cluster['Actual'], df_cluster['Cluster'])\n",
    "\n",
    "print(cross_tab)\n",
    "\n",
    "\n"
   ]
  },
  {
   "cell_type": "code",
   "execution_count": null,
   "id": "7f06b64d",
   "metadata": {},
   "outputs": [],
   "source": []
  }
 ],
 "metadata": {
  "kernelspec": {
   "display_name": "Python 3 (ipykernel)",
   "language": "python",
   "name": "python3"
  },
  "language_info": {
   "codemirror_mode": {
    "name": "ipython",
    "version": 3
   },
   "file_extension": ".py",
   "mimetype": "text/x-python",
   "name": "python",
   "nbconvert_exporter": "python",
   "pygments_lexer": "ipython3",
   "version": "3.10.9"
  }
 },
 "nbformat": 4,
 "nbformat_minor": 5
}
